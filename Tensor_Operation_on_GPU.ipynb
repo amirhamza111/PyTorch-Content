{
  "cells": [
    {
      "cell_type": "markdown",
      "source": [
        "# **Tensor Operation on GPU**"
      ],
      "metadata": {
        "id": "nFMko8bv9qt9"
      }
    },
    {
      "cell_type": "code",
      "source": [
        "import torch"
      ],
      "metadata": {
        "id": "Ds4C1M-N9pal"
      },
      "execution_count": 1,
      "outputs": []
    },
    {
      "cell_type": "code",
      "source": [
        "torch.cuda.is_available()"
      ],
      "metadata": {
        "id": "fNDajPEx9uvF",
        "outputId": "ac63753e-b909-472b-b90c-19334f052b36",
        "colab": {
          "base_uri": "https://localhost:8080/"
        }
      },
      "execution_count": 2,
      "outputs": [
        {
          "output_type": "execute_result",
          "data": {
            "text/plain": [
              "True"
            ]
          },
          "metadata": {},
          "execution_count": 2
        }
      ]
    },
    {
      "cell_type": "code",
      "source": [
        "device = torch.device(\"cuda\")"
      ],
      "metadata": {
        "id": "b2EryZ-F9x8n"
      },
      "execution_count": 7,
      "outputs": []
    },
    {
      "cell_type": "code",
      "source": [
        "device"
      ],
      "metadata": {
        "id": "yLR1WyPY9_By",
        "outputId": "af934df6-57e0-4138-9d0c-9a79064d0a6c",
        "colab": {
          "base_uri": "https://localhost:8080/"
        }
      },
      "execution_count": 8,
      "outputs": [
        {
          "output_type": "execute_result",
          "data": {
            "text/plain": [
              "device(type='cuda')"
            ]
          },
          "metadata": {},
          "execution_count": 8
        }
      ]
    },
    {
      "cell_type": "code",
      "source": [
        "# Creating New TEnsor on GPU\n",
        "torch.rand((2,3),device=device)"
      ],
      "metadata": {
        "id": "_VXihRXS-CFR",
        "outputId": "b6954e67-22e1-49b2-a6b8-6d7c66b5536c",
        "colab": {
          "base_uri": "https://localhost:8080/"
        }
      },
      "execution_count": 9,
      "outputs": [
        {
          "output_type": "execute_result",
          "data": {
            "text/plain": [
              "tensor([[0.0799, 0.9985, 0.7504],\n",
              "        [0.5543, 0.9457, 0.3307]], device='cuda:0')"
            ]
          },
          "metadata": {},
          "execution_count": 9
        }
      ]
    },
    {
      "cell_type": "code",
      "source": [
        "# Moving Existing Tensor to GPU\n",
        "a = torch.rand((2,3))\n",
        "a"
      ],
      "metadata": {
        "id": "_FU98d_F-M1N",
        "outputId": "b630b7fb-f640-41d6-a517-ed1947d22411",
        "colab": {
          "base_uri": "https://localhost:8080/"
        }
      },
      "execution_count": 10,
      "outputs": [
        {
          "output_type": "execute_result",
          "data": {
            "text/plain": [
              "tensor([[0.0738, 0.1836, 0.7704],\n",
              "        [0.0077, 0.5916, 0.9163]])"
            ]
          },
          "metadata": {},
          "execution_count": 10
        }
      ]
    },
    {
      "cell_type": "code",
      "source": [
        "b = a.to(device=device)\n",
        "b"
      ],
      "metadata": {
        "id": "_0lD2Qon-SeF",
        "outputId": "c91fa54f-4fb6-4908-c841-8f2b7d52695b",
        "colab": {
          "base_uri": "https://localhost:8080/"
        }
      },
      "execution_count": 11,
      "outputs": [
        {
          "output_type": "execute_result",
          "data": {
            "text/plain": [
              "tensor([[0.0738, 0.1836, 0.7704],\n",
              "        [0.0077, 0.5916, 0.9163]], device='cuda:0')"
            ]
          },
          "metadata": {},
          "execution_count": 11
        }
      ]
    },
    {
      "cell_type": "code",
      "source": [
        "b + 5"
      ],
      "metadata": {
        "id": "UDzqPeVh-X3i",
        "outputId": "d33cb9de-9d73-4ebb-dc61-f396fff4b18b",
        "colab": {
          "base_uri": "https://localhost:8080/"
        }
      },
      "execution_count": 12,
      "outputs": [
        {
          "output_type": "execute_result",
          "data": {
            "text/plain": [
              "tensor([[5.0738, 5.1836, 5.7704],\n",
              "        [5.0077, 5.5916, 5.9163]], device='cuda:0')"
            ]
          },
          "metadata": {},
          "execution_count": 12
        }
      ]
    },
    {
      "cell_type": "code",
      "source": [
        "import time\n",
        "\n",
        "# Define Size of Matrices\n",
        "size = 10000\n",
        "\n",
        "# Create Random Matrices on CPU\n",
        "matrix_cpu1 = torch.randn(size,size)\n",
        "matrix_cpu2 = torch.randn(size,size)\n",
        "\n",
        "# Measure Time on CPU\n",
        "strat_time = time.time()\n",
        "result_cpu = torch.matmul(matrix_cpu1,matrix_cpu2)\n",
        "cpu_time = time.time() - strat_time\n",
        "\n",
        "print(f\"Time on CPU : {cpu_time}\")\n",
        "\n",
        "# Move Matrixes to GPU\n",
        "matrix_gpu1 = matrix_cpu1.to(\"cuda\")\n",
        "matrix_gpu2 = matrix_cpu2.to(\"cuda\")\n",
        "\n",
        "# Measure Time on GPU\n",
        "start_time = time.time()\n",
        "result_gpu = torch.matmul(matrix_gpu1,matrix_gpu2)\n",
        "torch.cuda.synchronize() # Ensure All GPU Operations are Complete\n",
        "gpu_time = time.time() - strat_time\n",
        "\n",
        "print(f\"Time on GPU : {gpu_time}\")\n",
        "\n"
      ],
      "metadata": {
        "id": "KI0ccmBc-Z1U",
        "outputId": "54cf4456-90b9-4257-b389-8f1ce4d5e38c",
        "colab": {
          "base_uri": "https://localhost:8080/"
        }
      },
      "execution_count": 14,
      "outputs": [
        {
          "output_type": "stream",
          "name": "stdout",
          "text": [
            "Time on CPU : 24.815616846084595\n",
            "Time on GPU : 25.67122173309326\n"
          ]
        }
      ]
    }
  ],
  "metadata": {
    "colab": {
      "provenance": [],
      "gpuType": "T4"
    },
    "kernelspec": {
      "display_name": "Python 3",
      "name": "python3"
    },
    "language_info": {
      "name": "python"
    },
    "accelerator": "GPU"
  },
  "nbformat": 4,
  "nbformat_minor": 0
}