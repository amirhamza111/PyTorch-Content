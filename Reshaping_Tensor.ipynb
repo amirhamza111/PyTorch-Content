{
  "cells": [
    {
      "cell_type": "markdown",
      "source": [
        "# **ReShaping Tensors**"
      ],
      "metadata": {
        "id": "r0YYjaJdAXHi"
      }
    },
    {
      "cell_type": "code",
      "source": [
        "a = torch.ones((4,4))\n",
        "a"
      ],
      "metadata": {
        "id": "qXnm2E8MAal9",
        "outputId": "9265f811-83b0-4d82-b4d6-9e1ede4b9a72",
        "colab": {
          "base_uri": "https://localhost:8080/"
        }
      },
      "execution_count": 16,
      "outputs": [
        {
          "output_type": "execute_result",
          "data": {
            "text/plain": [
              "tensor([[1., 1., 1., 1.],\n",
              "        [1., 1., 1., 1.],\n",
              "        [1., 1., 1., 1.],\n",
              "        [1., 1., 1., 1.]])"
            ]
          },
          "metadata": {},
          "execution_count": 16
        }
      ]
    },
    {
      "cell_type": "code",
      "source": [
        "# Reshape\n",
        "a.reshape(2,2,2,2)"
      ],
      "metadata": {
        "id": "gidGn7c9Alu0",
        "outputId": "62f08846-1a61-43c1-b42f-08633b01c749",
        "colab": {
          "base_uri": "https://localhost:8080/"
        }
      },
      "execution_count": 21,
      "outputs": [
        {
          "output_type": "execute_result",
          "data": {
            "text/plain": [
              "tensor([[[[1., 1.],\n",
              "          [1., 1.]],\n",
              "\n",
              "         [[1., 1.],\n",
              "          [1., 1.]]],\n",
              "\n",
              "\n",
              "        [[[1., 1.],\n",
              "          [1., 1.]],\n",
              "\n",
              "         [[1., 1.],\n",
              "          [1., 1.]]]])"
            ]
          },
          "metadata": {},
          "execution_count": 21
        }
      ]
    },
    {
      "cell_type": "code",
      "source": [
        "# Flatten\n",
        "a.flatten()"
      ],
      "metadata": {
        "id": "6Tr0gg1_A_kd",
        "outputId": "deff4870-6de3-4d5f-a6b2-9919eca90ab5",
        "colab": {
          "base_uri": "https://localhost:8080/"
        }
      },
      "execution_count": 22,
      "outputs": [
        {
          "output_type": "execute_result",
          "data": {
            "text/plain": [
              "tensor([1., 1., 1., 1., 1., 1., 1., 1., 1., 1., 1., 1., 1., 1., 1., 1.])"
            ]
          },
          "metadata": {},
          "execution_count": 22
        }
      ]
    },
    {
      "cell_type": "code",
      "source": [
        "# Permute\n",
        "b = torch.rand(2,3,4)\n",
        "b.permute(2,0,1).shape"
      ],
      "metadata": {
        "id": "9yLzfLqiBCgR",
        "outputId": "f84434f6-07c9-461a-ddec-cc1d4a06085d",
        "colab": {
          "base_uri": "https://localhost:8080/"
        }
      },
      "execution_count": 29,
      "outputs": [
        {
          "output_type": "execute_result",
          "data": {
            "text/plain": [
              "torch.Size([4, 2, 3])"
            ]
          },
          "metadata": {},
          "execution_count": 29
        }
      ]
    },
    {
      "cell_type": "code",
      "source": [
        "# UnSqueeze\n",
        "c = torch.rand(226,226,3)\n",
        "c.unsqueeze(0).shape"
      ],
      "metadata": {
        "id": "YgcPQm-8BUqD",
        "outputId": "48edafa8-6d8d-4641-ced3-f6161fd0100c",
        "colab": {
          "base_uri": "https://localhost:8080/"
        }
      },
      "execution_count": 31,
      "outputs": [
        {
          "output_type": "execute_result",
          "data": {
            "text/plain": [
              "torch.Size([1, 226, 226, 3])"
            ]
          },
          "metadata": {},
          "execution_count": 31
        }
      ]
    },
    {
      "cell_type": "code",
      "source": [
        "# Squeeze\n",
        "d = torch.rand(1,20)\n",
        "d.squeeze(0).shape"
      ],
      "metadata": {
        "id": "gSw_IFeyBvil",
        "outputId": "12cdbb6e-0fe8-4c83-a1c5-2dde0e7f3786",
        "colab": {
          "base_uri": "https://localhost:8080/"
        }
      },
      "execution_count": 33,
      "outputs": [
        {
          "output_type": "execute_result",
          "data": {
            "text/plain": [
              "torch.Size([20])"
            ]
          },
          "metadata": {},
          "execution_count": 33
        }
      ]
    }
  ],
  "metadata": {
    "colab": {
      "provenance": [],
      "gpuType": "T4"
    },
    "kernelspec": {
      "display_name": "Python 3",
      "name": "python3"
    },
    "language_info": {
      "name": "python"
    },
    "accelerator": "GPU"
  },
  "nbformat": 4,
  "nbformat_minor": 0
}