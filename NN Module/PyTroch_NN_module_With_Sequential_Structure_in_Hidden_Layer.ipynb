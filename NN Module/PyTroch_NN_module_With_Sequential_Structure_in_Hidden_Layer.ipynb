{
  "cells": [
    {
      "cell_type": "code",
      "source": [
        "import torch\n",
        "import torch.nn as nn"
      ],
      "metadata": {
        "id": "VkC7c2x88KAw"
      },
      "execution_count": 31,
      "outputs": []
    },
    {
      "cell_type": "code",
      "source": [
        "class Model(nn.Module):\n",
        "  def __init__(self,num_features):\n",
        "    super().__init__()\n",
        "    self.network = nn.Sequential(\n",
        "        nn.Linear(num_features,5),\n",
        "        nn.ReLU(),\n",
        "        nn.Linear(5,1),\n",
        "        nn.Sigmoid()\n",
        "    )\n",
        "\n",
        "  def forward(self,features):\n",
        "    out = self.network(features)\n",
        "    return out"
      ],
      "metadata": {
        "id": "1ZMAZV5E3FIA"
      },
      "execution_count": 32,
      "outputs": []
    },
    {
      "cell_type": "code",
      "source": [
        "features = torch.rand(10,10)\n",
        "features"
      ],
      "metadata": {
        "colab": {
          "base_uri": "https://localhost:8080/"
        },
        "id": "qHGEDJ9P3q0E",
        "outputId": "27fec86c-989f-4aaa-c786-bdfb37102d35"
      },
      "execution_count": 33,
      "outputs": [
        {
          "output_type": "execute_result",
          "data": {
            "text/plain": [
              "tensor([[0.0034, 0.7679, 0.4800, 0.9669, 0.3187, 0.8377, 0.3528, 0.7954, 0.1570,\n",
              "         0.1932],\n",
              "        [0.5941, 0.5174, 0.9000, 0.3369, 0.9036, 0.6625, 0.2896, 0.2959, 0.9451,\n",
              "         0.9447],\n",
              "        [0.0319, 0.3294, 0.7889, 0.4667, 0.0580, 0.7431, 0.4597, 0.2183, 0.6635,\n",
              "         0.3187],\n",
              "        [0.3372, 0.9678, 0.8407, 0.8691, 0.3008, 0.8928, 0.3518, 0.5560, 0.8623,\n",
              "         0.1622],\n",
              "        [0.4603, 0.2178, 0.0176, 0.0244, 0.0925, 0.7284, 0.2415, 0.5512, 0.1435,\n",
              "         0.2728],\n",
              "        [0.5492, 0.0373, 0.6052, 0.0679, 0.9048, 0.8504, 0.3480, 0.3876, 0.2843,\n",
              "         0.1118],\n",
              "        [0.3741, 0.4025, 0.2299, 0.2217, 0.1346, 0.4505, 0.7084, 0.9649, 0.8907,\n",
              "         0.0390],\n",
              "        [0.5899, 0.7218, 0.1385, 0.5095, 0.2165, 0.6222, 0.2895, 0.5329, 0.0523,\n",
              "         0.0236],\n",
              "        [0.3211, 0.7564, 0.8215, 0.3670, 0.1169, 0.8880, 0.2144, 0.4549, 0.1021,\n",
              "         0.6500],\n",
              "        [0.2437, 0.5371, 0.4048, 0.7525, 0.2429, 0.9992, 0.3662, 0.0378, 0.3638,\n",
              "         0.4051]])"
            ]
          },
          "metadata": {},
          "execution_count": 33
        }
      ]
    },
    {
      "cell_type": "code",
      "source": [
        "model = Model(features.shape[1])\n",
        "model(features)"
      ],
      "metadata": {
        "colab": {
          "base_uri": "https://localhost:8080/"
        },
        "id": "k-pjJXwD3zTw",
        "outputId": "96854944-ab8a-4a20-a011-3d8d1e82cba6"
      },
      "execution_count": 34,
      "outputs": [
        {
          "output_type": "execute_result",
          "data": {
            "text/plain": [
              "tensor([[0.5515],\n",
              "        [0.5466],\n",
              "        [0.5440],\n",
              "        [0.5676],\n",
              "        [0.5455],\n",
              "        [0.5350],\n",
              "        [0.5657],\n",
              "        [0.5648],\n",
              "        [0.5365],\n",
              "        [0.5497]], grad_fn=<SigmoidBackward0>)"
            ]
          },
          "metadata": {},
          "execution_count": 34
        }
      ]
    },
    {
      "cell_type": "code",
      "source": [
        "# !pip install torchinfo"
      ],
      "metadata": {
        "colab": {
          "base_uri": "https://localhost:8080/"
        },
        "id": "ZSGpa14Q42b_",
        "outputId": "ca677596-65db-4ef6-cc43-86984ce55288"
      },
      "execution_count": 28,
      "outputs": [
        {
          "output_type": "stream",
          "name": "stdout",
          "text": [
            "Collecting torchinfo\n",
            "  Downloading torchinfo-1.8.0-py3-none-any.whl.metadata (21 kB)\n",
            "Downloading torchinfo-1.8.0-py3-none-any.whl (23 kB)\n",
            "Installing collected packages: torchinfo\n",
            "Successfully installed torchinfo-1.8.0\n"
          ]
        }
      ]
    },
    {
      "cell_type": "code",
      "source": [
        "from torchinfo import summary\n",
        "summary(model,input_size=(features.shape[0],features.shape[1]))"
      ],
      "metadata": {
        "colab": {
          "base_uri": "https://localhost:8080/"
        },
        "id": "9dyFoqwL465k",
        "outputId": "98b021fb-bbdd-45b5-8055-9d4f5e8ec5e6"
      },
      "execution_count": 35,
      "outputs": [
        {
          "output_type": "execute_result",
          "data": {
            "text/plain": [
              "==========================================================================================\n",
              "Layer (type:depth-idx)                   Output Shape              Param #\n",
              "==========================================================================================\n",
              "Model                                    [10, 1]                   --\n",
              "├─Sequential: 1-1                        [10, 1]                   --\n",
              "│    └─Linear: 2-1                       [10, 5]                   55\n",
              "│    └─ReLU: 2-2                         [10, 5]                   --\n",
              "│    └─Linear: 2-3                       [10, 1]                   6\n",
              "│    └─Sigmoid: 2-4                      [10, 1]                   --\n",
              "==========================================================================================\n",
              "Total params: 61\n",
              "Trainable params: 61\n",
              "Non-trainable params: 0\n",
              "Total mult-adds (Units.MEGABYTES): 0.00\n",
              "==========================================================================================\n",
              "Input size (MB): 0.00\n",
              "Forward/backward pass size (MB): 0.00\n",
              "Params size (MB): 0.00\n",
              "Estimated Total Size (MB): 0.00\n",
              "=========================================================================================="
            ]
          },
          "metadata": {},
          "execution_count": 35
        }
      ]
    }
  ],
  "metadata": {
    "colab": {
      "provenance": []
    },
    "kernelspec": {
      "display_name": "Python 3",
      "name": "python3"
    },
    "language_info": {
      "name": "python"
    }
  },
  "nbformat": 4,
  "nbformat_minor": 0
}