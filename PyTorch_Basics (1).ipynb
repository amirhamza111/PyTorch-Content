{
  "cells": [
    {
      "cell_type": "code",
      "source": [
        "import numpy as np"
      ],
      "metadata": {
        "id": "ZdvC8TW4HXhm"
      },
      "execution_count": 1,
      "outputs": []
    },
    {
      "cell_type": "code",
      "source": [
        "# Checking Version of Pytorch\n",
        "import torch\n",
        "print(torch.__version__)\n"
      ],
      "metadata": {
        "id": "7cU10mZCF1ap",
        "colab": {
          "base_uri": "https://localhost:8080/"
        },
        "outputId": "dfa20295-e1b1-4d86-e7f8-9068e26d8dfb"
      },
      "execution_count": 2,
      "outputs": [
        {
          "output_type": "stream",
          "name": "stdout",
          "text": [
            "2.6.0+cu124\n"
          ]
        }
      ]
    },
    {
      "cell_type": "code",
      "source": [
        "# Checking Availability of GPU\n",
        "if torch.cuda.is_available():\n",
        "  print(\"GPU is Available\")\n",
        "  print(torch.cuda.get_device_name(0))\n",
        "else:\n",
        "  print(\"GPU UnAvailable. You are using CPU\")"
      ],
      "metadata": {
        "id": "qxrCNmOfF_A2",
        "colab": {
          "base_uri": "https://localhost:8080/"
        },
        "outputId": "77bb5cc4-6146-4b13-b266-79849b9749f1"
      },
      "execution_count": 3,
      "outputs": [
        {
          "output_type": "stream",
          "name": "stdout",
          "text": [
            "GPU UnAvailable. You are using CPU\n"
          ]
        }
      ]
    },
    {
      "cell_type": "markdown",
      "source": [
        "# **Creating Tensor**"
      ],
      "metadata": {
        "id": "qgh1qKPdG4Jz"
      }
    },
    {
      "cell_type": "code",
      "source": [
        "# Using Empty Function\n",
        "torch.empty(2,3)"
      ],
      "metadata": {
        "id": "NZolassCGZ7u",
        "colab": {
          "base_uri": "https://localhost:8080/"
        },
        "outputId": "d1bb9f5d-edd5-475c-9a09-af3a90648d63"
      },
      "execution_count": 4,
      "outputs": [
        {
          "output_type": "execute_result",
          "data": {
            "text/plain": [
              "tensor([[2.2720e-40, 5.3369e-08, 3.0376e+35],\n",
              "        [0.0000e+00, 0.0000e+00, 2.3107e-41]])"
            ]
          },
          "metadata": {},
          "execution_count": 4
        }
      ]
    },
    {
      "cell_type": "code",
      "source": [
        "# Check Type of Tensors\n",
        "a = torch.empty(2,3)\n",
        "print(a.dtype)"
      ],
      "metadata": {
        "id": "svTBaTrjHH9D",
        "colab": {
          "base_uri": "https://localhost:8080/"
        },
        "outputId": "1b7d3879-b7fd-44c8-dfa8-4c09e4980b94"
      },
      "execution_count": 5,
      "outputs": [
        {
          "output_type": "stream",
          "name": "stdout",
          "text": [
            "torch.float32\n"
          ]
        }
      ]
    },
    {
      "cell_type": "code",
      "source": [
        "# Creating Zero Tensor\n",
        "torch.zeros(2,3)"
      ],
      "metadata": {
        "id": "U4o-BaPXHQ3E",
        "colab": {
          "base_uri": "https://localhost:8080/"
        },
        "outputId": "ebd5a9ce-711d-436a-ecfe-3555484520fd"
      },
      "execution_count": 6,
      "outputs": [
        {
          "output_type": "execute_result",
          "data": {
            "text/plain": [
              "tensor([[0., 0., 0.],\n",
              "        [0., 0., 0.]])"
            ]
          },
          "metadata": {},
          "execution_count": 6
        }
      ]
    },
    {
      "cell_type": "code",
      "source": [
        "# Using Numpy Creating Zeros\n",
        "x = np.zeros((2,3))\n",
        "type(x)"
      ],
      "metadata": {
        "id": "n6oFivUpHZw2",
        "colab": {
          "base_uri": "https://localhost:8080/"
        },
        "outputId": "ee11eec2-ea71-4811-c0ff-fed32a0a72b3"
      },
      "execution_count": 7,
      "outputs": [
        {
          "output_type": "execute_result",
          "data": {
            "text/plain": [
              "numpy.ndarray"
            ]
          },
          "metadata": {},
          "execution_count": 7
        }
      ]
    },
    {
      "cell_type": "code",
      "source": [
        "# Creating Ones with Torch\n",
        "x = torch.ones(2,3)\n",
        "x"
      ],
      "metadata": {
        "id": "mUEZwaLEApk6",
        "colab": {
          "base_uri": "https://localhost:8080/"
        },
        "outputId": "d4707f64-231a-48c0-cac5-d7677f9e2a92"
      },
      "execution_count": 8,
      "outputs": [
        {
          "output_type": "execute_result",
          "data": {
            "text/plain": [
              "tensor([[1., 1., 1.],\n",
              "        [1., 1., 1.]])"
            ]
          },
          "metadata": {},
          "execution_count": 8
        }
      ]
    },
    {
      "cell_type": "code",
      "source": [
        "type(x)"
      ],
      "metadata": {
        "id": "Jpd_fKaTAy6i",
        "colab": {
          "base_uri": "https://localhost:8080/"
        },
        "outputId": "2924b8ca-6a49-48c5-9bea-35b59e36291a"
      },
      "execution_count": 9,
      "outputs": [
        {
          "output_type": "execute_result",
          "data": {
            "text/plain": [
              "torch.Tensor"
            ]
          },
          "metadata": {},
          "execution_count": 9
        }
      ]
    },
    {
      "cell_type": "code",
      "source": [
        "# Creating Random Tensors with Torch\n",
        "x = torch.rand(2,3)\n",
        "x"
      ],
      "metadata": {
        "id": "FKBN4uNhA1Q1",
        "colab": {
          "base_uri": "https://localhost:8080/"
        },
        "outputId": "b7da0414-54da-4702-dd1e-b7631d88441c"
      },
      "execution_count": 10,
      "outputs": [
        {
          "output_type": "execute_result",
          "data": {
            "text/plain": [
              "tensor([[0.6168, 0.9174, 0.5110],\n",
              "        [0.3253, 0.3542, 0.2941]])"
            ]
          },
          "metadata": {},
          "execution_count": 10
        }
      ]
    },
    {
      "cell_type": "code",
      "source": [
        "type(x)"
      ],
      "metadata": {
        "id": "hgaVvd1bA7tW",
        "colab": {
          "base_uri": "https://localhost:8080/"
        },
        "outputId": "cba570a5-395c-442f-a986-ae01589d7d5d"
      },
      "execution_count": 11,
      "outputs": [
        {
          "output_type": "execute_result",
          "data": {
            "text/plain": [
              "torch.Tensor"
            ]
          },
          "metadata": {},
          "execution_count": 11
        }
      ]
    },
    {
      "cell_type": "code",
      "source": [
        "## Using Manual Seed to Make Data Consistent\n",
        "torch.manual_seed(42)\n",
        "torch.rand(2,3)\n"
      ],
      "metadata": {
        "id": "BltcL83GA9Q6",
        "colab": {
          "base_uri": "https://localhost:8080/"
        },
        "outputId": "f91b5f65-cd2b-4c6b-f1f5-7e6d8903dbaa"
      },
      "execution_count": 12,
      "outputs": [
        {
          "output_type": "execute_result",
          "data": {
            "text/plain": [
              "tensor([[0.8823, 0.9150, 0.3829],\n",
              "        [0.9593, 0.3904, 0.6009]])"
            ]
          },
          "metadata": {},
          "execution_count": 12
        }
      ]
    },
    {
      "cell_type": "code",
      "source": [
        "torch.manual_seed(42)\n",
        "torch.rand(2,3)"
      ],
      "metadata": {
        "id": "e6apxdzqBKDp",
        "colab": {
          "base_uri": "https://localhost:8080/"
        },
        "outputId": "fd6ce938-18d7-47bd-85ba-e4b3e8d9c634"
      },
      "execution_count": 13,
      "outputs": [
        {
          "output_type": "execute_result",
          "data": {
            "text/plain": [
              "tensor([[0.8823, 0.9150, 0.3829],\n",
              "        [0.9593, 0.3904, 0.6009]])"
            ]
          },
          "metadata": {},
          "execution_count": 13
        }
      ]
    },
    {
      "cell_type": "code",
      "source": [
        "# Creating Custom Tensors\n",
        "torch.tensor([[1,2,3],[4,5,6]])"
      ],
      "metadata": {
        "id": "jPo1USPNBLkA",
        "colab": {
          "base_uri": "https://localhost:8080/"
        },
        "outputId": "de814c8c-7914-4b31-9e45-476676a30a60"
      },
      "execution_count": 14,
      "outputs": [
        {
          "output_type": "execute_result",
          "data": {
            "text/plain": [
              "tensor([[1, 2, 3],\n",
              "        [4, 5, 6]])"
            ]
          },
          "metadata": {},
          "execution_count": 14
        }
      ]
    },
    {
      "cell_type": "code",
      "source": [
        "# Creating Custom Tensors with Arrange Method\n",
        "torch.arange(0,10,3)"
      ],
      "metadata": {
        "id": "pWT9yLP_BeVs",
        "colab": {
          "base_uri": "https://localhost:8080/"
        },
        "outputId": "0f2eb19a-b3e2-4aa7-de8f-03e73c6c5a89"
      },
      "execution_count": 15,
      "outputs": [
        {
          "output_type": "execute_result",
          "data": {
            "text/plain": [
              "tensor([0, 3, 6, 9])"
            ]
          },
          "metadata": {},
          "execution_count": 15
        }
      ]
    },
    {
      "cell_type": "code",
      "source": [
        "# Creating Custom Tensor with LinSpaces Method\n",
        "torch.linspace(0,10,5)"
      ],
      "metadata": {
        "id": "2MGQ7AOfB5vd",
        "colab": {
          "base_uri": "https://localhost:8080/"
        },
        "outputId": "c73047bf-6bfd-43b6-a13d-62fa4d4dc4b0"
      },
      "execution_count": 16,
      "outputs": [
        {
          "output_type": "execute_result",
          "data": {
            "text/plain": [
              "tensor([ 0.0000,  2.5000,  5.0000,  7.5000, 10.0000])"
            ]
          },
          "metadata": {},
          "execution_count": 16
        }
      ]
    },
    {
      "cell_type": "code",
      "source": [
        "# Creating Custom Tensor with Eye (Identity) Method\n",
        "torch.eye(5)"
      ],
      "metadata": {
        "id": "u_VjQpmyEHOg",
        "colab": {
          "base_uri": "https://localhost:8080/"
        },
        "outputId": "a1168130-6430-4202-b3fb-01e8df76ab09"
      },
      "execution_count": 17,
      "outputs": [
        {
          "output_type": "execute_result",
          "data": {
            "text/plain": [
              "tensor([[1., 0., 0., 0., 0.],\n",
              "        [0., 1., 0., 0., 0.],\n",
              "        [0., 0., 1., 0., 0.],\n",
              "        [0., 0., 0., 1., 0.],\n",
              "        [0., 0., 0., 0., 1.]])"
            ]
          },
          "metadata": {},
          "execution_count": 17
        }
      ]
    },
    {
      "cell_type": "code",
      "source": [
        "# Creating Custom Tensor with full Method\n",
        "torch.full((2,3),5)"
      ],
      "metadata": {
        "id": "jQHM_mtEERhE",
        "colab": {
          "base_uri": "https://localhost:8080/"
        },
        "outputId": "97591f3f-9ff3-4b0f-8028-f6c68e901804"
      },
      "execution_count": 18,
      "outputs": [
        {
          "output_type": "execute_result",
          "data": {
            "text/plain": [
              "tensor([[5, 5, 5],\n",
              "        [5, 5, 5]])"
            ]
          },
          "metadata": {},
          "execution_count": 18
        }
      ]
    },
    {
      "cell_type": "markdown",
      "source": [
        "# **Tensor Shapes**"
      ],
      "metadata": {
        "id": "jQkWt6eFEfh9"
      }
    },
    {
      "cell_type": "code",
      "source": [
        "x = torch.tensor([[1,2,3],[4,5,6]])\n",
        "x"
      ],
      "metadata": {
        "id": "o7pm_dGhEeGm",
        "colab": {
          "base_uri": "https://localhost:8080/"
        },
        "outputId": "00eed0d9-2ea1-495c-88a4-0eee75303ffe"
      },
      "execution_count": 19,
      "outputs": [
        {
          "output_type": "execute_result",
          "data": {
            "text/plain": [
              "tensor([[1, 2, 3],\n",
              "        [4, 5, 6]])"
            ]
          },
          "metadata": {},
          "execution_count": 19
        }
      ]
    },
    {
      "cell_type": "code",
      "source": [
        "# Finding Shape of Tensor\n",
        "x.shape"
      ],
      "metadata": {
        "id": "lzwtVtgMEmlS",
        "colab": {
          "base_uri": "https://localhost:8080/"
        },
        "outputId": "0283c3c0-ec3d-4248-d008-ca78180c5d24"
      },
      "execution_count": 20,
      "outputs": [
        {
          "output_type": "execute_result",
          "data": {
            "text/plain": [
              "torch.Size([2, 3])"
            ]
          },
          "metadata": {},
          "execution_count": 20
        }
      ]
    },
    {
      "cell_type": "code",
      "source": [
        "# Creating Empty Tensor of Shape X_tensor\n",
        "torch.empty_like(x)"
      ],
      "metadata": {
        "id": "-F0cYPCGEpT6",
        "colab": {
          "base_uri": "https://localhost:8080/"
        },
        "outputId": "21381595-234a-4a26-b716-fa9e73ed4a05"
      },
      "execution_count": 21,
      "outputs": [
        {
          "output_type": "execute_result",
          "data": {
            "text/plain": [
              "tensor([[3631421048947435063, 3180160581922730804, 4189022153932546592],\n",
              "        [3471489377445749280, 4192905490737605943, 3833458513866799155]])"
            ]
          },
          "metadata": {},
          "execution_count": 21
        }
      ]
    },
    {
      "cell_type": "code",
      "source": [
        "# Creating Zero Tensor of Shape X_tensor\n",
        "torch.zeros_like(x)"
      ],
      "metadata": {
        "id": "36-tlPERE5ep",
        "colab": {
          "base_uri": "https://localhost:8080/"
        },
        "outputId": "b763f486-4236-477c-cbb4-c1577c656194"
      },
      "execution_count": 22,
      "outputs": [
        {
          "output_type": "execute_result",
          "data": {
            "text/plain": [
              "tensor([[0, 0, 0],\n",
              "        [0, 0, 0]])"
            ]
          },
          "metadata": {},
          "execution_count": 22
        }
      ]
    },
    {
      "cell_type": "code",
      "source": [
        "# Creating One Tensor of Shape X_tensor\n",
        "torch.ones_like(x)"
      ],
      "metadata": {
        "id": "9In361wCFCmQ",
        "colab": {
          "base_uri": "https://localhost:8080/"
        },
        "outputId": "16b7ba61-e1d8-490d-9370-d4c050b59ca0"
      },
      "execution_count": 23,
      "outputs": [
        {
          "output_type": "execute_result",
          "data": {
            "text/plain": [
              "tensor([[1, 1, 1],\n",
              "        [1, 1, 1]])"
            ]
          },
          "metadata": {},
          "execution_count": 23
        }
      ]
    },
    {
      "cell_type": "code",
      "source": [
        "# Creating Random Tensor of Shape X_tensor\n",
        "torch.rand_like(x,dtype=torch.float16)"
      ],
      "metadata": {
        "id": "uo3y4s9vFLMY",
        "colab": {
          "base_uri": "https://localhost:8080/"
        },
        "outputId": "10e57959-4fa9-470e-f061-456dddb8eb1e"
      },
      "execution_count": 24,
      "outputs": [
        {
          "output_type": "execute_result",
          "data": {
            "text/plain": [
              "tensor([[0.8418, 0.5098, 0.7998],\n",
              "        [0.0591, 0.2275, 0.6045]], dtype=torch.float16)"
            ]
          },
          "metadata": {},
          "execution_count": 24
        }
      ]
    },
    {
      "cell_type": "markdown",
      "source": [
        "# **Tensor Data Types**"
      ],
      "metadata": {
        "id": "OGWYLxV2FYPY"
      }
    },
    {
      "cell_type": "code",
      "source": [
        "# Finding Data Type of Tensor\n",
        "x.dtype"
      ],
      "metadata": {
        "id": "2GBFCaqlFaSY",
        "colab": {
          "base_uri": "https://localhost:8080/"
        },
        "outputId": "8d1de80a-bd88-4a27-c5ff-92ff710c2399"
      },
      "execution_count": 25,
      "outputs": [
        {
          "output_type": "execute_result",
          "data": {
            "text/plain": [
              "torch.int64"
            ]
          },
          "metadata": {},
          "execution_count": 25
        }
      ]
    },
    {
      "cell_type": "code",
      "source": [
        "# Assign Data Type\n",
        "torch.tensor([[1,2,3],[4,5,6]],dtype=torch.float16)"
      ],
      "metadata": {
        "id": "OQPs-EmRFgpm",
        "colab": {
          "base_uri": "https://localhost:8080/"
        },
        "outputId": "5bc92ae1-f0c0-4d66-e427-e3c70327f7a9"
      },
      "execution_count": 26,
      "outputs": [
        {
          "output_type": "execute_result",
          "data": {
            "text/plain": [
              "tensor([[1., 2., 3.],\n",
              "        [4., 5., 6.]], dtype=torch.float16)"
            ]
          },
          "metadata": {},
          "execution_count": 26
        }
      ]
    },
    {
      "cell_type": "code",
      "source": [
        "# Converting Data Type to Other Data type\n",
        "x.to(dtype=torch.float16)"
      ],
      "metadata": {
        "id": "_Sr5NgHpFvDS",
        "colab": {
          "base_uri": "https://localhost:8080/"
        },
        "outputId": "494efb73-5c69-4ce4-9086-fe352e26ec3c"
      },
      "execution_count": 27,
      "outputs": [
        {
          "output_type": "execute_result",
          "data": {
            "text/plain": [
              "tensor([[1., 2., 3.],\n",
              "        [4., 5., 6.]], dtype=torch.float16)"
            ]
          },
          "metadata": {},
          "execution_count": 27
        }
      ]
    },
    {
      "cell_type": "code",
      "source": [
        "x.dtype"
      ],
      "metadata": {
        "id": "oylq8S6GF56X",
        "colab": {
          "base_uri": "https://localhost:8080/"
        },
        "outputId": "f6f276da-55b5-4751-c06d-ceefd3efdf20"
      },
      "execution_count": 28,
      "outputs": [
        {
          "output_type": "execute_result",
          "data": {
            "text/plain": [
              "torch.int64"
            ]
          },
          "metadata": {},
          "execution_count": 28
        }
      ]
    },
    {
      "cell_type": "code",
      "source": [
        "# ReConverting Data Type of X to Int Again\n",
        "x.to(torch.int16)"
      ],
      "metadata": {
        "id": "VLGc-zB4F8ps",
        "colab": {
          "base_uri": "https://localhost:8080/"
        },
        "outputId": "dd769ce6-eca4-46a9-b693-a0398c3ff84f"
      },
      "execution_count": 29,
      "outputs": [
        {
          "output_type": "execute_result",
          "data": {
            "text/plain": [
              "tensor([[1, 2, 3],\n",
              "        [4, 5, 6]], dtype=torch.int16)"
            ]
          },
          "metadata": {},
          "execution_count": 29
        }
      ]
    },
    {
      "cell_type": "code",
      "source": [
        "x.dtype"
      ],
      "metadata": {
        "id": "MmwmL9iVGHcK",
        "colab": {
          "base_uri": "https://localhost:8080/"
        },
        "outputId": "e13af3f7-a395-40ca-e90c-03e22f55b8cc"
      },
      "execution_count": 30,
      "outputs": [
        {
          "output_type": "execute_result",
          "data": {
            "text/plain": [
              "torch.int64"
            ]
          },
          "metadata": {},
          "execution_count": 30
        }
      ]
    },
    {
      "cell_type": "markdown",
      "source": [
        "# **Mathmatical Operations**"
      ],
      "metadata": {
        "id": "HyDoybtqGO0K"
      }
    },
    {
      "cell_type": "markdown",
      "source": [
        "**1. Scalar Operations**"
      ],
      "metadata": {
        "id": "2X0YOmSAGTZL"
      }
    },
    {
      "cell_type": "code",
      "source": [
        "x = torch.rand(2,2)\n",
        "x"
      ],
      "metadata": {
        "id": "leDh818eGIsc",
        "colab": {
          "base_uri": "https://localhost:8080/"
        },
        "outputId": "20a50910-ca88-4bea-832d-b0c7ec24b76e"
      },
      "execution_count": 31,
      "outputs": [
        {
          "output_type": "execute_result",
          "data": {
            "text/plain": [
              "tensor([[0.8694, 0.5677],\n",
              "        [0.7411, 0.4294]])"
            ]
          },
          "metadata": {},
          "execution_count": 31
        }
      ]
    },
    {
      "cell_type": "code",
      "source": [
        "# Addition\n",
        "x + 2"
      ],
      "metadata": {
        "id": "LvKR-ZdJGZpB",
        "colab": {
          "base_uri": "https://localhost:8080/"
        },
        "outputId": "1c78dfd3-f140-4edd-ae60-f78f7b7a65e4"
      },
      "execution_count": 32,
      "outputs": [
        {
          "output_type": "execute_result",
          "data": {
            "text/plain": [
              "tensor([[2.8694, 2.5677],\n",
              "        [2.7411, 2.4294]])"
            ]
          },
          "metadata": {},
          "execution_count": 32
        }
      ]
    },
    {
      "cell_type": "code",
      "source": [
        "# Substraction\n",
        "x - 2"
      ],
      "metadata": {
        "id": "LbS9zOHlGd5x",
        "colab": {
          "base_uri": "https://localhost:8080/"
        },
        "outputId": "a480caf0-d405-4c91-e713-cc5b1ceac46a"
      },
      "execution_count": 33,
      "outputs": [
        {
          "output_type": "execute_result",
          "data": {
            "text/plain": [
              "tensor([[-1.1306, -1.4323],\n",
              "        [-1.2589, -1.5706]])"
            ]
          },
          "metadata": {},
          "execution_count": 33
        }
      ]
    },
    {
      "cell_type": "code",
      "source": [
        "# Multiplication\n",
        "x * 2"
      ],
      "metadata": {
        "id": "Oj76NkXeGgTi",
        "colab": {
          "base_uri": "https://localhost:8080/"
        },
        "outputId": "ed06f9a8-d338-4492-a21c-5a22598b760f"
      },
      "execution_count": 34,
      "outputs": [
        {
          "output_type": "execute_result",
          "data": {
            "text/plain": [
              "tensor([[1.7388, 1.1354],\n",
              "        [1.4822, 0.8588]])"
            ]
          },
          "metadata": {},
          "execution_count": 34
        }
      ]
    },
    {
      "cell_type": "code",
      "source": [
        "# Division\n",
        "x / 2"
      ],
      "metadata": {
        "id": "b4dFcSWrGjDh",
        "colab": {
          "base_uri": "https://localhost:8080/"
        },
        "outputId": "4a950801-ea35-4175-a935-80bb8814e202"
      },
      "execution_count": 35,
      "outputs": [
        {
          "output_type": "execute_result",
          "data": {
            "text/plain": [
              "tensor([[0.4347, 0.2839],\n",
              "        [0.3705, 0.2147]])"
            ]
          },
          "metadata": {},
          "execution_count": 35
        }
      ]
    },
    {
      "cell_type": "code",
      "source": [
        "# Int Division\n",
        "x // 2"
      ],
      "metadata": {
        "id": "-V2gfD8jGk6U",
        "colab": {
          "base_uri": "https://localhost:8080/"
        },
        "outputId": "9cc2c1de-eb52-4eb9-9fb8-e7b510a5a20f"
      },
      "execution_count": 36,
      "outputs": [
        {
          "output_type": "execute_result",
          "data": {
            "text/plain": [
              "tensor([[0., 0.],\n",
              "        [0., 0.]])"
            ]
          },
          "metadata": {},
          "execution_count": 36
        }
      ]
    },
    {
      "cell_type": "code",
      "source": [
        "# Power\n",
        "x**2"
      ],
      "metadata": {
        "id": "rB8V8P2wGoCD",
        "colab": {
          "base_uri": "https://localhost:8080/"
        },
        "outputId": "7eef299f-825a-4b9e-93ee-635e30a5d7ad"
      },
      "execution_count": 37,
      "outputs": [
        {
          "output_type": "execute_result",
          "data": {
            "text/plain": [
              "tensor([[0.7559, 0.3223],\n",
              "        [0.5492, 0.1844]])"
            ]
          },
          "metadata": {},
          "execution_count": 37
        }
      ]
    },
    {
      "cell_type": "markdown",
      "source": [
        "**2. Element Wise Operation**"
      ],
      "metadata": {
        "id": "YhZBt7jpGwIu"
      }
    },
    {
      "cell_type": "code",
      "source": [
        "a = torch.rand(2,2)\n",
        "b = torch.rand(2,2)"
      ],
      "metadata": {
        "id": "C0rqVjQoGyWO"
      },
      "execution_count": 38,
      "outputs": []
    },
    {
      "cell_type": "code",
      "source": [
        "# Addition\n",
        "a + b"
      ],
      "metadata": {
        "id": "WbKW4MmsG1iP",
        "colab": {
          "base_uri": "https://localhost:8080/"
        },
        "outputId": "0e089c18-d60b-4287-a1e4-234720eff0dc"
      },
      "execution_count": 39,
      "outputs": [
        {
          "output_type": "execute_result",
          "data": {
            "text/plain": [
              "tensor([[1.1551, 1.0153],\n",
              "        [0.5635, 1.4591]])"
            ]
          },
          "metadata": {},
          "execution_count": 39
        }
      ]
    },
    {
      "cell_type": "code",
      "source": [
        "# Subtraction\n",
        "a - b"
      ],
      "metadata": {
        "id": "QQXlsDxaG3W-",
        "colab": {
          "base_uri": "https://localhost:8080/"
        },
        "outputId": "81a23395-006a-4a12-8fee-43a6229fae97"
      },
      "execution_count": 40,
      "outputs": [
        {
          "output_type": "execute_result",
          "data": {
            "text/plain": [
              "tensor([[ 0.6158,  0.1325],\n",
              "        [-0.0303, -0.2042]])"
            ]
          },
          "metadata": {},
          "execution_count": 40
        }
      ]
    },
    {
      "cell_type": "code",
      "source": [
        "# Multiplication\n",
        "a * b"
      ],
      "metadata": {
        "id": "3QPMMadDG54A",
        "colab": {
          "base_uri": "https://localhost:8080/"
        },
        "outputId": "a4c2c338-f31b-4600-b911-d2ac6f05d1ab"
      },
      "execution_count": 41,
      "outputs": [
        {
          "output_type": "execute_result",
          "data": {
            "text/plain": [
              "tensor([[0.2387, 0.2533],\n",
              "        [0.0792, 0.5218]])"
            ]
          },
          "metadata": {},
          "execution_count": 41
        }
      ]
    },
    {
      "cell_type": "code",
      "source": [
        "# Division\n",
        "a / b"
      ],
      "metadata": {
        "id": "5iCLbGFsG8D9",
        "colab": {
          "base_uri": "https://localhost:8080/"
        },
        "outputId": "8a0153a2-d783-4f0e-e682-9ccd0d48f4c7"
      },
      "execution_count": 42,
      "outputs": [
        {
          "output_type": "execute_result",
          "data": {
            "text/plain": [
              "tensor([[3.2839, 1.3003],\n",
              "        [0.8978, 0.7544]])"
            ]
          },
          "metadata": {},
          "execution_count": 42
        }
      ]
    },
    {
      "cell_type": "code",
      "source": [
        "# Power\n",
        "a**b"
      ],
      "metadata": {
        "id": "41oAwSQbG9Xi",
        "colab": {
          "base_uri": "https://localhost:8080/"
        },
        "outputId": "cdaf3f1a-a617-44c6-8ff2-e3a6476c105f"
      },
      "execution_count": 43,
      "outputs": [
        {
          "output_type": "execute_result",
          "data": {
            "text/plain": [
              "tensor([[0.9677, 0.7826],\n",
              "        [0.6753, 0.6787]])"
            ]
          },
          "metadata": {},
          "execution_count": 43
        }
      ]
    },
    {
      "cell_type": "code",
      "source": [
        "# Modulus\n",
        "a % b"
      ],
      "metadata": {
        "id": "2w2OAOGvHAuu",
        "colab": {
          "base_uri": "https://localhost:8080/"
        },
        "outputId": "63fcad0c-59b5-43e7-fc2f-fce24d57c50a"
      },
      "execution_count": 44,
      "outputs": [
        {
          "output_type": "execute_result",
          "data": {
            "text/plain": [
              "tensor([[0.0765, 0.1325],\n",
              "        [0.2666, 0.6274]])"
            ]
          },
          "metadata": {},
          "execution_count": 44
        }
      ]
    },
    {
      "cell_type": "code",
      "source": [
        "# Absolute\n",
        "c = torch.tensor([1,-2,3,-4])\n",
        "torch.abs(c)"
      ],
      "metadata": {
        "id": "mtuAIIl1HK1U",
        "colab": {
          "base_uri": "https://localhost:8080/"
        },
        "outputId": "3db08174-379c-40e7-8094-7fd1adf389d1"
      },
      "execution_count": 45,
      "outputs": [
        {
          "output_type": "execute_result",
          "data": {
            "text/plain": [
              "tensor([1, 2, 3, 4])"
            ]
          },
          "metadata": {},
          "execution_count": 45
        }
      ]
    },
    {
      "cell_type": "code",
      "source": [
        "# Negative\n",
        "torch.neg(c)"
      ],
      "metadata": {
        "id": "1QRWuohpHR0f",
        "colab": {
          "base_uri": "https://localhost:8080/"
        },
        "outputId": "909962b6-6e31-4e47-d343-20f89935b2a0"
      },
      "execution_count": 46,
      "outputs": [
        {
          "output_type": "execute_result",
          "data": {
            "text/plain": [
              "tensor([-1,  2, -3,  4])"
            ]
          },
          "metadata": {},
          "execution_count": 46
        }
      ]
    },
    {
      "cell_type": "code",
      "source": [
        "# round\n",
        "d = torch.tensor([1.2,3.3,4.8])\n",
        "torch.round(d)"
      ],
      "metadata": {
        "id": "35ks4DJEHVm6",
        "colab": {
          "base_uri": "https://localhost:8080/"
        },
        "outputId": "1dac0d65-6f02-46c1-9837-e0143141e331"
      },
      "execution_count": 47,
      "outputs": [
        {
          "output_type": "execute_result",
          "data": {
            "text/plain": [
              "tensor([1., 3., 5.])"
            ]
          },
          "metadata": {},
          "execution_count": 47
        }
      ]
    },
    {
      "cell_type": "code",
      "source": [
        "# Ceil\n",
        "torch.ceil(d)"
      ],
      "metadata": {
        "id": "5iqpuPH7IA6P",
        "colab": {
          "base_uri": "https://localhost:8080/"
        },
        "outputId": "94131c01-bac3-4ac7-fd0f-e9078442e01d"
      },
      "execution_count": 48,
      "outputs": [
        {
          "output_type": "execute_result",
          "data": {
            "text/plain": [
              "tensor([2., 4., 5.])"
            ]
          },
          "metadata": {},
          "execution_count": 48
        }
      ]
    },
    {
      "cell_type": "code",
      "source": [
        "# Floor\n",
        "torch.floor(d)"
      ],
      "metadata": {
        "id": "HhPLFEavIDdf",
        "colab": {
          "base_uri": "https://localhost:8080/"
        },
        "outputId": "b9edaf1d-d171-40ff-fdba-b166f62fc06b"
      },
      "execution_count": 49,
      "outputs": [
        {
          "output_type": "execute_result",
          "data": {
            "text/plain": [
              "tensor([1., 3., 4.])"
            ]
          },
          "metadata": {},
          "execution_count": 49
        }
      ]
    },
    {
      "cell_type": "code",
      "source": [
        "# Clamp : It set Limit the Min and Max Values\n",
        "torch.clamp(d,min=1.5 , max=3.5)"
      ],
      "metadata": {
        "id": "xwU0xrpHI_-E",
        "colab": {
          "base_uri": "https://localhost:8080/"
        },
        "outputId": "a8a7b9bc-78ae-4e01-9f9d-fa932142509b"
      },
      "execution_count": 50,
      "outputs": [
        {
          "output_type": "execute_result",
          "data": {
            "text/plain": [
              "tensor([1.5000, 3.3000, 3.5000])"
            ]
          },
          "metadata": {},
          "execution_count": 50
        }
      ]
    },
    {
      "cell_type": "markdown",
      "source": [
        "**3. Reduction Operation**"
      ],
      "metadata": {
        "id": "bJ67yrRHSigp"
      }
    },
    {
      "cell_type": "code",
      "source": [
        "e = torch.randint(size=(2,3),dtype=torch.float32,low=0,high=10)\n",
        "e"
      ],
      "metadata": {
        "id": "hr27_F4_Slwy",
        "colab": {
          "base_uri": "https://localhost:8080/"
        },
        "outputId": "cc00022b-6d44-47ef-a42a-f7f711873f7f"
      },
      "execution_count": 51,
      "outputs": [
        {
          "output_type": "execute_result",
          "data": {
            "text/plain": [
              "tensor([[9., 3., 1.],\n",
              "        [9., 7., 9.]])"
            ]
          },
          "metadata": {},
          "execution_count": 51
        }
      ]
    },
    {
      "cell_type": "code",
      "source": [
        "## Sum : It will Summ all the Elments in that Tensor\n",
        "torch.sum(e)"
      ],
      "metadata": {
        "id": "NOAFGAL2SzRJ",
        "colab": {
          "base_uri": "https://localhost:8080/"
        },
        "outputId": "fb8e922d-275d-4710-d40b-e5c76de5a797"
      },
      "execution_count": 52,
      "outputs": [
        {
          "output_type": "execute_result",
          "data": {
            "text/plain": [
              "tensor(38.)"
            ]
          },
          "metadata": {},
          "execution_count": 52
        }
      ]
    },
    {
      "cell_type": "code",
      "source": [
        "# Sum Along Columns\n",
        "torch.sum(e,dim=0)"
      ],
      "metadata": {
        "id": "JMBF7_KvS88I",
        "colab": {
          "base_uri": "https://localhost:8080/"
        },
        "outputId": "91a06336-836c-4aa6-f628-ee833d0c4389"
      },
      "execution_count": 53,
      "outputs": [
        {
          "output_type": "execute_result",
          "data": {
            "text/plain": [
              "tensor([18., 10., 10.])"
            ]
          },
          "metadata": {},
          "execution_count": 53
        }
      ]
    },
    {
      "cell_type": "code",
      "source": [
        "#Sum Along Rows\n",
        "torch.sum(e,dim=1)"
      ],
      "metadata": {
        "id": "3j685361TS1G",
        "colab": {
          "base_uri": "https://localhost:8080/"
        },
        "outputId": "6be9d150-9aed-4bcb-ecae-cfeaf60e6b65"
      },
      "execution_count": 54,
      "outputs": [
        {
          "output_type": "execute_result",
          "data": {
            "text/plain": [
              "tensor([13., 25.])"
            ]
          },
          "metadata": {},
          "execution_count": 54
        }
      ]
    },
    {
      "cell_type": "code",
      "source": [
        "# Mean\n",
        "torch.mean(e)"
      ],
      "metadata": {
        "id": "UPYe2oZaTalk",
        "colab": {
          "base_uri": "https://localhost:8080/"
        },
        "outputId": "0474a970-d50e-4a63-e02b-bdb4867f36d5"
      },
      "execution_count": 55,
      "outputs": [
        {
          "output_type": "execute_result",
          "data": {
            "text/plain": [
              "tensor(6.3333)"
            ]
          },
          "metadata": {},
          "execution_count": 55
        }
      ]
    },
    {
      "cell_type": "code",
      "source": [
        "# Mean Along the Column\n",
        "torch.mean(e,dim=0)"
      ],
      "metadata": {
        "id": "JDIfX7U5Tc4n",
        "colab": {
          "base_uri": "https://localhost:8080/"
        },
        "outputId": "60380d10-c036-4e9b-f286-50a1448e81b2"
      },
      "execution_count": 56,
      "outputs": [
        {
          "output_type": "execute_result",
          "data": {
            "text/plain": [
              "tensor([9., 5., 5.])"
            ]
          },
          "metadata": {},
          "execution_count": 56
        }
      ]
    },
    {
      "cell_type": "code",
      "source": [
        "# Median\n",
        "torch.median(e)"
      ],
      "metadata": {
        "id": "fRbU-OETT_Nh",
        "colab": {
          "base_uri": "https://localhost:8080/"
        },
        "outputId": "f5073a61-a2b5-4db8-989e-f1ae0b484042"
      },
      "execution_count": 57,
      "outputs": [
        {
          "output_type": "execute_result",
          "data": {
            "text/plain": [
              "tensor(7.)"
            ]
          },
          "metadata": {},
          "execution_count": 57
        }
      ]
    },
    {
      "cell_type": "code",
      "source": [
        "# Min and Max\n",
        "torch.min(e) , torch.max(e)"
      ],
      "metadata": {
        "id": "CUrUyDAYUD6S",
        "colab": {
          "base_uri": "https://localhost:8080/"
        },
        "outputId": "29659c21-66d7-4978-cab6-d8bf43c3fcf0"
      },
      "execution_count": 58,
      "outputs": [
        {
          "output_type": "execute_result",
          "data": {
            "text/plain": [
              "(tensor(1.), tensor(9.))"
            ]
          },
          "metadata": {},
          "execution_count": 58
        }
      ]
    },
    {
      "cell_type": "code",
      "source": [
        "# Product\n",
        "torch.prod(e)"
      ],
      "metadata": {
        "id": "MAfSOYkIUIBH",
        "colab": {
          "base_uri": "https://localhost:8080/"
        },
        "outputId": "364904a4-bd61-403f-af00-7d78d9e6f3e2"
      },
      "execution_count": 59,
      "outputs": [
        {
          "output_type": "execute_result",
          "data": {
            "text/plain": [
              "tensor(15309.)"
            ]
          },
          "metadata": {},
          "execution_count": 59
        }
      ]
    },
    {
      "cell_type": "code",
      "source": [
        "# Standard Deviation\n",
        "torch.std(e)"
      ],
      "metadata": {
        "id": "Iid2DwiBUMgh",
        "colab": {
          "base_uri": "https://localhost:8080/"
        },
        "outputId": "0b846a63-b70f-4a6b-938f-de1e433811f2"
      },
      "execution_count": 60,
      "outputs": [
        {
          "output_type": "execute_result",
          "data": {
            "text/plain": [
              "tensor(3.5024)"
            ]
          },
          "metadata": {},
          "execution_count": 60
        }
      ]
    },
    {
      "cell_type": "code",
      "source": [
        "# Variance\n",
        "torch.var(e)"
      ],
      "metadata": {
        "id": "_zxC-TE8UPNg",
        "colab": {
          "base_uri": "https://localhost:8080/"
        },
        "outputId": "5de5956a-130f-432a-8165-2919eade043c"
      },
      "execution_count": 61,
      "outputs": [
        {
          "output_type": "execute_result",
          "data": {
            "text/plain": [
              "tensor(12.2667)"
            ]
          },
          "metadata": {},
          "execution_count": 61
        }
      ]
    },
    {
      "cell_type": "code",
      "source": [
        "# ArgMax : Gives index of Max value\n",
        "torch.argmax(e)"
      ],
      "metadata": {
        "id": "haULHpfgUaA0",
        "colab": {
          "base_uri": "https://localhost:8080/"
        },
        "outputId": "4ece54c3-a0aa-4a0c-c3d9-430caa6bf0f0"
      },
      "execution_count": 62,
      "outputs": [
        {
          "output_type": "execute_result",
          "data": {
            "text/plain": [
              "tensor(0)"
            ]
          },
          "metadata": {},
          "execution_count": 62
        }
      ]
    },
    {
      "cell_type": "code",
      "source": [
        "# ArgMin : Gives index of Min Value\n",
        "torch.argmin(e)"
      ],
      "metadata": {
        "id": "pPxRCJBZUgTg",
        "colab": {
          "base_uri": "https://localhost:8080/"
        },
        "outputId": "2374cfae-77dd-414e-f8d6-f9aded24f0b5"
      },
      "execution_count": 63,
      "outputs": [
        {
          "output_type": "execute_result",
          "data": {
            "text/plain": [
              "tensor(2)"
            ]
          },
          "metadata": {},
          "execution_count": 63
        }
      ]
    },
    {
      "cell_type": "markdown",
      "source": [
        "**4. Matrix Operation**"
      ],
      "metadata": {
        "id": "gX17A7uxUoJx"
      }
    },
    {
      "cell_type": "code",
      "source": [
        "f = torch.randint(size=(2,3) , low = 0 , high = 10)\n",
        "g = torch.randint(size=(3,2) , low = 0 , high = 10)\n"
      ],
      "metadata": {
        "id": "ryhQgdu7UlMP"
      },
      "execution_count": 64,
      "outputs": []
    },
    {
      "cell_type": "code",
      "source": [
        "f"
      ],
      "metadata": {
        "id": "bnI79yrDU13P",
        "colab": {
          "base_uri": "https://localhost:8080/"
        },
        "outputId": "23535d16-eb81-4191-b16c-3c8f90b42843"
      },
      "execution_count": 65,
      "outputs": [
        {
          "output_type": "execute_result",
          "data": {
            "text/plain": [
              "tensor([[2, 0, 5],\n",
              "        [9, 3, 4]])"
            ]
          },
          "metadata": {},
          "execution_count": 65
        }
      ]
    },
    {
      "cell_type": "code",
      "source": [
        "g"
      ],
      "metadata": {
        "id": "XIZSikkOU2RA",
        "colab": {
          "base_uri": "https://localhost:8080/"
        },
        "outputId": "95ec1e9e-ac3d-4bb5-efbc-6f17711b31f3"
      },
      "execution_count": 66,
      "outputs": [
        {
          "output_type": "execute_result",
          "data": {
            "text/plain": [
              "tensor([[9, 6],\n",
              "        [2, 0],\n",
              "        [6, 2]])"
            ]
          },
          "metadata": {},
          "execution_count": 66
        }
      ]
    },
    {
      "cell_type": "code",
      "source": [
        "# Matric Multiplication\n",
        "torch.matmul(f,g)"
      ],
      "metadata": {
        "id": "Kn8xDp4BU31w",
        "colab": {
          "base_uri": "https://localhost:8080/"
        },
        "outputId": "d1ae7c8c-62ed-40c6-d5c4-9caffdddc966"
      },
      "execution_count": 67,
      "outputs": [
        {
          "output_type": "execute_result",
          "data": {
            "text/plain": [
              "tensor([[ 48,  22],\n",
              "        [111,  62]])"
            ]
          },
          "metadata": {},
          "execution_count": 67
        }
      ]
    },
    {
      "cell_type": "code",
      "source": [
        "vector1 = torch.tensor([1, 2])\n",
        "vector2 = torch.tensor([3, 4])\n",
        "\n",
        "# dot product\n",
        "torch.dot(vector1, vector2)"
      ],
      "metadata": {
        "id": "SO-mI4wWVBnc",
        "colab": {
          "base_uri": "https://localhost:8080/"
        },
        "outputId": "cd408454-c9e0-4295-8bce-4bce53373b14"
      },
      "execution_count": 68,
      "outputs": [
        {
          "output_type": "execute_result",
          "data": {
            "text/plain": [
              "tensor(11)"
            ]
          },
          "metadata": {},
          "execution_count": 68
        }
      ]
    },
    {
      "cell_type": "code",
      "source": [
        "# Transpose\n",
        "torch.transpose(f,0,1)"
      ],
      "metadata": {
        "id": "quCpKOPfVHXz",
        "colab": {
          "base_uri": "https://localhost:8080/"
        },
        "outputId": "13224e46-200a-429c-e76f-fb7d9b151b68"
      },
      "execution_count": 69,
      "outputs": [
        {
          "output_type": "execute_result",
          "data": {
            "text/plain": [
              "tensor([[2, 9],\n",
              "        [0, 3],\n",
              "        [5, 4]])"
            ]
          },
          "metadata": {},
          "execution_count": 69
        }
      ]
    },
    {
      "cell_type": "code",
      "source": [
        "h = torch.randint(size=(3,3), low=0, high=10, dtype=torch.float32)\n",
        "h"
      ],
      "metadata": {
        "id": "uuJxuo9pVPa1",
        "colab": {
          "base_uri": "https://localhost:8080/"
        },
        "outputId": "75a11c75-3b00-455b-ebfa-3c116273e6b3"
      },
      "execution_count": 70,
      "outputs": [
        {
          "output_type": "execute_result",
          "data": {
            "text/plain": [
              "tensor([[7., 9., 7.],\n",
              "        [3., 3., 4.],\n",
              "        [3., 7., 0.]])"
            ]
          },
          "metadata": {},
          "execution_count": 70
        }
      ]
    },
    {
      "cell_type": "code",
      "source": [
        "# Determinant\n",
        "torch.det(h)"
      ],
      "metadata": {
        "id": "PBx819rJVWf8",
        "colab": {
          "base_uri": "https://localhost:8080/"
        },
        "outputId": "5288cfc8-1d59-493f-c059-2d8918a17cfa"
      },
      "execution_count": 71,
      "outputs": [
        {
          "output_type": "execute_result",
          "data": {
            "text/plain": [
              "tensor(-4.0000)"
            ]
          },
          "metadata": {},
          "execution_count": 71
        }
      ]
    },
    {
      "cell_type": "code",
      "source": [
        "# Inverse\n",
        "torch.inverse(h)"
      ],
      "metadata": {
        "id": "tet8UkrDVZtH",
        "colab": {
          "base_uri": "https://localhost:8080/"
        },
        "outputId": "24bf47df-496e-4c91-b005-65301ea5831b"
      },
      "execution_count": 72,
      "outputs": [
        {
          "output_type": "execute_result",
          "data": {
            "text/plain": [
              "tensor([[  7.0000, -12.2500,  -3.7500],\n",
              "        [ -3.0000,   5.2500,   1.7500],\n",
              "        [ -3.0000,   5.5000,   1.5000]])"
            ]
          },
          "metadata": {},
          "execution_count": 72
        }
      ]
    },
    {
      "cell_type": "markdown",
      "source": [
        "**5. Comparison Operation**"
      ],
      "metadata": {
        "id": "amn68TieVfNm"
      }
    },
    {
      "cell_type": "code",
      "source": [
        "i = torch.randint(size=(2,3), low=0, high=10)\n",
        "j = torch.randint(size=(2,3), low=0, high=10)\n",
        "\n",
        "print(i)\n",
        "print(j)"
      ],
      "metadata": {
        "id": "OOvYD-Y9VcYW",
        "colab": {
          "base_uri": "https://localhost:8080/"
        },
        "outputId": "4b53b71d-1d29-429a-e35d-8f9700dc89b8"
      },
      "execution_count": 73,
      "outputs": [
        {
          "output_type": "stream",
          "name": "stdout",
          "text": [
            "tensor([[9, 0, 9],\n",
            "        [6, 9, 5]])\n",
            "tensor([[4, 8, 8],\n",
            "        [6, 0, 0]])\n"
          ]
        }
      ]
    },
    {
      "cell_type": "code",
      "source": [
        "# Greater Then\n",
        "i > j"
      ],
      "metadata": {
        "id": "3QmAVuKBVmEK",
        "colab": {
          "base_uri": "https://localhost:8080/"
        },
        "outputId": "e2edc1f5-1d07-4d16-e160-886b26905201"
      },
      "execution_count": 74,
      "outputs": [
        {
          "output_type": "execute_result",
          "data": {
            "text/plain": [
              "tensor([[ True, False,  True],\n",
              "        [False,  True,  True]])"
            ]
          },
          "metadata": {},
          "execution_count": 74
        }
      ]
    },
    {
      "cell_type": "code",
      "source": [
        "# Less Then\n",
        "i < j"
      ],
      "metadata": {
        "id": "xn4S11DkVpd6",
        "colab": {
          "base_uri": "https://localhost:8080/"
        },
        "outputId": "e14b782c-8380-44f3-c1de-9209a96a23b2"
      },
      "execution_count": 75,
      "outputs": [
        {
          "output_type": "execute_result",
          "data": {
            "text/plain": [
              "tensor([[False,  True, False],\n",
              "        [False, False, False]])"
            ]
          },
          "metadata": {},
          "execution_count": 75
        }
      ]
    },
    {
      "cell_type": "code",
      "source": [
        "# Equal to\n",
        "i == j"
      ],
      "metadata": {
        "id": "baW3w2YwVrWu",
        "colab": {
          "base_uri": "https://localhost:8080/"
        },
        "outputId": "865a7cfc-1a84-470d-cb99-c377a122049b"
      },
      "execution_count": 76,
      "outputs": [
        {
          "output_type": "execute_result",
          "data": {
            "text/plain": [
              "tensor([[False, False, False],\n",
              "        [ True, False, False]])"
            ]
          },
          "metadata": {},
          "execution_count": 76
        }
      ]
    },
    {
      "cell_type": "code",
      "source": [
        "# Less Then Equal to\n",
        "i <= j"
      ],
      "metadata": {
        "id": "lBO5Tf9MVtiV",
        "colab": {
          "base_uri": "https://localhost:8080/"
        },
        "outputId": "cb39217d-f1f6-4178-ad77-57c90452c7d3"
      },
      "execution_count": 77,
      "outputs": [
        {
          "output_type": "execute_result",
          "data": {
            "text/plain": [
              "tensor([[False,  True, False],\n",
              "        [ True, False, False]])"
            ]
          },
          "metadata": {},
          "execution_count": 77
        }
      ]
    },
    {
      "cell_type": "code",
      "source": [
        "# Greater Then Equal to\n",
        "i >= j"
      ],
      "metadata": {
        "id": "667CR-KcVxxS",
        "colab": {
          "base_uri": "https://localhost:8080/"
        },
        "outputId": "e141a243-a850-401d-8735-5e0d862e579b"
      },
      "execution_count": 78,
      "outputs": [
        {
          "output_type": "execute_result",
          "data": {
            "text/plain": [
              "tensor([[ True, False,  True],\n",
              "        [ True,  True,  True]])"
            ]
          },
          "metadata": {},
          "execution_count": 78
        }
      ]
    },
    {
      "cell_type": "markdown",
      "source": [
        "**6. Special Functions**"
      ],
      "metadata": {
        "id": "MKWaYIgWWLCs"
      }
    },
    {
      "cell_type": "code",
      "source": [
        "k = torch.randint(size=(2,3), low=0, high=10, dtype=torch.float32)\n",
        "k"
      ],
      "metadata": {
        "id": "KU0aKcNuWtcs",
        "colab": {
          "base_uri": "https://localhost:8080/"
        },
        "outputId": "ba8471a8-bb5a-43f3-9ca5-9bc44d1f45cd"
      },
      "execution_count": 79,
      "outputs": [
        {
          "output_type": "execute_result",
          "data": {
            "text/plain": [
              "tensor([[0., 0., 1.],\n",
              "        [3., 0., 1.]])"
            ]
          },
          "metadata": {},
          "execution_count": 79
        }
      ]
    },
    {
      "cell_type": "code",
      "source": [
        "# Log\n",
        "torch.log(k)"
      ],
      "metadata": {
        "id": "Tzr2Z3NfWyQx",
        "colab": {
          "base_uri": "https://localhost:8080/"
        },
        "outputId": "6361c325-e1d2-4fb8-9b08-a72f78cb1aee"
      },
      "execution_count": 80,
      "outputs": [
        {
          "output_type": "execute_result",
          "data": {
            "text/plain": [
              "tensor([[  -inf,   -inf, 0.0000],\n",
              "        [1.0986,   -inf, 0.0000]])"
            ]
          },
          "metadata": {},
          "execution_count": 80
        }
      ]
    },
    {
      "cell_type": "code",
      "source": [
        "# Exponential\n",
        "torch.exp(k)"
      ],
      "metadata": {
        "id": "HCrG95_EWzq-",
        "colab": {
          "base_uri": "https://localhost:8080/"
        },
        "outputId": "23d949d2-9ca5-430a-b846-784bdd7caaf4"
      },
      "execution_count": 81,
      "outputs": [
        {
          "output_type": "execute_result",
          "data": {
            "text/plain": [
              "tensor([[ 1.0000,  1.0000,  2.7183],\n",
              "        [20.0855,  1.0000,  2.7183]])"
            ]
          },
          "metadata": {},
          "execution_count": 81
        }
      ]
    },
    {
      "cell_type": "code",
      "source": [
        "# SQRT\n",
        "torch.sqrt(k)"
      ],
      "metadata": {
        "id": "3ci5y-fwW2pf",
        "colab": {
          "base_uri": "https://localhost:8080/"
        },
        "outputId": "e6c7d3c1-1654-47c4-e467-30d498c56bc5"
      },
      "execution_count": 82,
      "outputs": [
        {
          "output_type": "execute_result",
          "data": {
            "text/plain": [
              "tensor([[0.0000, 0.0000, 1.0000],\n",
              "        [1.7321, 0.0000, 1.0000]])"
            ]
          },
          "metadata": {},
          "execution_count": 82
        }
      ]
    },
    {
      "cell_type": "code",
      "source": [
        "# Sigmoid\n",
        "torch.sigmoid(k)"
      ],
      "metadata": {
        "id": "XpHVGgZoW6bL",
        "colab": {
          "base_uri": "https://localhost:8080/"
        },
        "outputId": "080382fa-f1bd-4ed4-812d-b007e26f0d68"
      },
      "execution_count": 83,
      "outputs": [
        {
          "output_type": "execute_result",
          "data": {
            "text/plain": [
              "tensor([[0.5000, 0.5000, 0.7311],\n",
              "        [0.9526, 0.5000, 0.7311]])"
            ]
          },
          "metadata": {},
          "execution_count": 83
        }
      ]
    },
    {
      "cell_type": "code",
      "source": [
        "# SoftMax\n",
        "torch.softmax(k,dim=0)"
      ],
      "metadata": {
        "id": "gJkwMg43XUX1",
        "colab": {
          "base_uri": "https://localhost:8080/"
        },
        "outputId": "4f6e0d0e-8532-41e2-c7a5-6a7b8eaf3e35"
      },
      "execution_count": 84,
      "outputs": [
        {
          "output_type": "execute_result",
          "data": {
            "text/plain": [
              "tensor([[0.0474, 0.5000, 0.5000],\n",
              "        [0.9526, 0.5000, 0.5000]])"
            ]
          },
          "metadata": {},
          "execution_count": 84
        }
      ]
    },
    {
      "cell_type": "code",
      "source": [
        "# Relu\n",
        "z = torch.randint(size=(2,3), low=-5, high=10, dtype=torch.float32)\n",
        "z\n",
        "print(z)\n",
        "print(torch.relu(z))"
      ],
      "metadata": {
        "id": "k0RNhH5OXk33",
        "colab": {
          "base_uri": "https://localhost:8080/"
        },
        "outputId": "bc8a7b4b-3691-4a19-ebd1-46f3d61f90ed"
      },
      "execution_count": 85,
      "outputs": [
        {
          "output_type": "stream",
          "name": "stdout",
          "text": [
            "tensor([[-4., -3.,  4.],\n",
            "        [-1.,  8.,  8.]])\n",
            "tensor([[0., 0., 4.],\n",
            "        [0., 8., 8.]])\n"
          ]
        }
      ]
    },
    {
      "cell_type": "markdown",
      "source": [
        "# **Inplace Operations**"
      ],
      "metadata": {
        "id": "EeaXdgUKX2us"
      }
    },
    {
      "cell_type": "code",
      "source": [
        "m = torch.rand(2,3)\n",
        "n = torch.rand(2,3)\n",
        "\n",
        "print(m)\n",
        "print(n)"
      ],
      "metadata": {
        "id": "H7B7j-t2X5bD",
        "colab": {
          "base_uri": "https://localhost:8080/"
        },
        "outputId": "04602bb4-602c-4f7f-98b0-3006788f0b24"
      },
      "execution_count": 86,
      "outputs": [
        {
          "output_type": "stream",
          "name": "stdout",
          "text": [
            "tensor([[0.1088, 0.1637, 0.7025],\n",
            "        [0.6790, 0.9155, 0.2418]])\n",
            "tensor([[0.1591, 0.7653, 0.2979],\n",
            "        [0.8035, 0.3813, 0.7860]])\n"
          ]
        }
      ]
    },
    {
      "cell_type": "code",
      "source": [
        "# tensor.add_() Stores Value in old Tensor , Instead of New Tensor\n",
        "m.add_(n)"
      ],
      "metadata": {
        "id": "mmflcW8AX9kw",
        "colab": {
          "base_uri": "https://localhost:8080/"
        },
        "outputId": "89fa7ad7-a373-4453-a70b-4810ecf14f30"
      },
      "execution_count": 87,
      "outputs": [
        {
          "output_type": "execute_result",
          "data": {
            "text/plain": [
              "tensor([[0.2680, 0.9289, 1.0004],\n",
              "        [1.4825, 1.2968, 1.0278]])"
            ]
          },
          "metadata": {},
          "execution_count": 87
        }
      ]
    },
    {
      "cell_type": "code",
      "source": [
        "m"
      ],
      "metadata": {
        "colab": {
          "base_uri": "https://localhost:8080/"
        },
        "id": "TTj7jCYV6d8C",
        "outputId": "53d6c5fb-1137-4715-af7d-1f4dbfcda6d5"
      },
      "execution_count": 88,
      "outputs": [
        {
          "output_type": "execute_result",
          "data": {
            "text/plain": [
              "tensor([[0.2680, 0.9289, 1.0004],\n",
              "        [1.4825, 1.2968, 1.0278]])"
            ]
          },
          "metadata": {},
          "execution_count": 88
        }
      ]
    },
    {
      "cell_type": "code",
      "source": [
        "n"
      ],
      "metadata": {
        "id": "Y7tW2M7V6iHQ",
        "outputId": "1c43f2a1-5cf7-41a5-8cab-be7a49f0b24b",
        "colab": {
          "base_uri": "https://localhost:8080/"
        }
      },
      "execution_count": 89,
      "outputs": [
        {
          "output_type": "execute_result",
          "data": {
            "text/plain": [
              "tensor([[0.1591, 0.7653, 0.2979],\n",
              "        [0.8035, 0.3813, 0.7860]])"
            ]
          },
          "metadata": {},
          "execution_count": 89
        }
      ]
    },
    {
      "cell_type": "code",
      "source": [
        "# Relu : New Vector is Created\n",
        "torch.relu(m)"
      ],
      "metadata": {
        "id": "7h5Riatk6nTr",
        "outputId": "8c19c159-7151-4fbf-c4a5-82cef04fee83",
        "colab": {
          "base_uri": "https://localhost:8080/"
        }
      },
      "execution_count": 90,
      "outputs": [
        {
          "output_type": "execute_result",
          "data": {
            "text/plain": [
              "tensor([[0.2680, 0.9289, 1.0004],\n",
              "        [1.4825, 1.2968, 1.0278]])"
            ]
          },
          "metadata": {},
          "execution_count": 90
        }
      ]
    },
    {
      "cell_type": "code",
      "source": [
        "# Value is Added to Old Vector\n",
        "m.relu_()"
      ],
      "metadata": {
        "id": "y79bl8Gx6vJQ",
        "outputId": "ae222a3c-8e74-473c-d49f-1295f8be952c",
        "colab": {
          "base_uri": "https://localhost:8080/"
        }
      },
      "execution_count": 91,
      "outputs": [
        {
          "output_type": "execute_result",
          "data": {
            "text/plain": [
              "tensor([[0.2680, 0.9289, 1.0004],\n",
              "        [1.4825, 1.2968, 1.0278]])"
            ]
          },
          "metadata": {},
          "execution_count": 91
        }
      ]
    },
    {
      "cell_type": "markdown",
      "source": [
        "# **Copy a Tensor**"
      ],
      "metadata": {
        "id": "JmwWyJAY63cF"
      }
    },
    {
      "cell_type": "code",
      "source": [
        "a = torch.rand(2,3)\n",
        "a"
      ],
      "metadata": {
        "id": "qElqAQeN64-z",
        "outputId": "2e994885-5aeb-4c83-b13e-eed797d80e59",
        "colab": {
          "base_uri": "https://localhost:8080/"
        }
      },
      "execution_count": 92,
      "outputs": [
        {
          "output_type": "execute_result",
          "data": {
            "text/plain": [
              "tensor([[0.1115, 0.2477, 0.6524],\n",
              "        [0.6057, 0.3725, 0.7980]])"
            ]
          },
          "metadata": {},
          "execution_count": 92
        }
      ]
    },
    {
      "cell_type": "code",
      "source": [
        "b = a"
      ],
      "metadata": {
        "id": "b2r-wxKw67Su"
      },
      "execution_count": 93,
      "outputs": []
    },
    {
      "cell_type": "code",
      "source": [
        "a[0][0] = 0"
      ],
      "metadata": {
        "id": "zKuWyUR868rl"
      },
      "execution_count": 94,
      "outputs": []
    },
    {
      "cell_type": "code",
      "source": [
        "a"
      ],
      "metadata": {
        "id": "o9XUkgrN6_EG",
        "outputId": "70ac4984-617a-432a-a53e-828bdcb32544",
        "colab": {
          "base_uri": "https://localhost:8080/"
        }
      },
      "execution_count": 95,
      "outputs": [
        {
          "output_type": "execute_result",
          "data": {
            "text/plain": [
              "tensor([[0.0000, 0.2477, 0.6524],\n",
              "        [0.6057, 0.3725, 0.7980]])"
            ]
          },
          "metadata": {},
          "execution_count": 95
        }
      ]
    },
    {
      "cell_type": "code",
      "source": [
        "b"
      ],
      "metadata": {
        "id": "8gGfvUZc6_6n",
        "outputId": "3a4d827d-9a99-45ab-f762-9958f7e806fc",
        "colab": {
          "base_uri": "https://localhost:8080/"
        }
      },
      "execution_count": 96,
      "outputs": [
        {
          "output_type": "execute_result",
          "data": {
            "text/plain": [
              "tensor([[0.0000, 0.2477, 0.6524],\n",
              "        [0.6057, 0.3725, 0.7980]])"
            ]
          },
          "metadata": {},
          "execution_count": 96
        }
      ]
    },
    {
      "cell_type": "code",
      "source": [
        "id(a)"
      ],
      "metadata": {
        "id": "F8igbCaJ7Cdo",
        "outputId": "bf88f786-3abf-492e-951d-ad301fa84b5b",
        "colab": {
          "base_uri": "https://localhost:8080/"
        }
      },
      "execution_count": 97,
      "outputs": [
        {
          "output_type": "execute_result",
          "data": {
            "text/plain": [
              "138321010516400"
            ]
          },
          "metadata": {},
          "execution_count": 97
        }
      ]
    },
    {
      "cell_type": "code",
      "source": [
        "id(b)"
      ],
      "metadata": {
        "id": "jdeNkORw7C-l",
        "outputId": "a6a0a208-1c29-46e8-e426-5f90e08217fe",
        "colab": {
          "base_uri": "https://localhost:8080/"
        }
      },
      "execution_count": 98,
      "outputs": [
        {
          "output_type": "execute_result",
          "data": {
            "text/plain": [
              "138321010516400"
            ]
          },
          "metadata": {},
          "execution_count": 98
        }
      ]
    },
    {
      "cell_type": "code",
      "source": [
        "# Cloning\n",
        "b = a.clone()\n"
      ],
      "metadata": {
        "id": "5nC83TSS7Dqb"
      },
      "execution_count": 99,
      "outputs": []
    },
    {
      "cell_type": "code",
      "source": [
        "a"
      ],
      "metadata": {
        "id": "_8cDKdr77LiU",
        "outputId": "5b096641-59ce-45ee-84e1-0852568bd46a",
        "colab": {
          "base_uri": "https://localhost:8080/"
        }
      },
      "execution_count": 100,
      "outputs": [
        {
          "output_type": "execute_result",
          "data": {
            "text/plain": [
              "tensor([[0.0000, 0.2477, 0.6524],\n",
              "        [0.6057, 0.3725, 0.7980]])"
            ]
          },
          "metadata": {},
          "execution_count": 100
        }
      ]
    },
    {
      "cell_type": "code",
      "source": [
        "b"
      ],
      "metadata": {
        "id": "s7aumLaK7Me3",
        "outputId": "39f086d3-c1fa-4c63-af50-0ee60a43093c",
        "colab": {
          "base_uri": "https://localhost:8080/"
        }
      },
      "execution_count": 101,
      "outputs": [
        {
          "output_type": "execute_result",
          "data": {
            "text/plain": [
              "tensor([[0.0000, 0.2477, 0.6524],\n",
              "        [0.6057, 0.3725, 0.7980]])"
            ]
          },
          "metadata": {},
          "execution_count": 101
        }
      ]
    },
    {
      "cell_type": "code",
      "source": [
        "a[0][0] = 10"
      ],
      "metadata": {
        "id": "02dusxH17Njq"
      },
      "execution_count": 102,
      "outputs": []
    },
    {
      "cell_type": "code",
      "source": [
        "a"
      ],
      "metadata": {
        "id": "qJFeXg8Y7Qfg",
        "outputId": "a0440edf-ca06-4d56-d2a3-be004525b321",
        "colab": {
          "base_uri": "https://localhost:8080/"
        }
      },
      "execution_count": 103,
      "outputs": [
        {
          "output_type": "execute_result",
          "data": {
            "text/plain": [
              "tensor([[10.0000,  0.2477,  0.6524],\n",
              "        [ 0.6057,  0.3725,  0.7980]])"
            ]
          },
          "metadata": {},
          "execution_count": 103
        }
      ]
    },
    {
      "cell_type": "code",
      "source": [
        "b"
      ],
      "metadata": {
        "id": "wq69kYR37RG6",
        "outputId": "3eb79701-399a-436b-d149-88579815a66e",
        "colab": {
          "base_uri": "https://localhost:8080/"
        }
      },
      "execution_count": 104,
      "outputs": [
        {
          "output_type": "execute_result",
          "data": {
            "text/plain": [
              "tensor([[0.0000, 0.2477, 0.6524],\n",
              "        [0.6057, 0.3725, 0.7980]])"
            ]
          },
          "metadata": {},
          "execution_count": 104
        }
      ]
    },
    {
      "cell_type": "code",
      "source": [
        "id(a)"
      ],
      "metadata": {
        "id": "ONrNRl6T7S98",
        "outputId": "b04847aa-a9d9-48c9-e51c-cc496a5b5159",
        "colab": {
          "base_uri": "https://localhost:8080/"
        }
      },
      "execution_count": 105,
      "outputs": [
        {
          "output_type": "execute_result",
          "data": {
            "text/plain": [
              "138321010516400"
            ]
          },
          "metadata": {},
          "execution_count": 105
        }
      ]
    },
    {
      "cell_type": "code",
      "source": [
        "id(b)"
      ],
      "metadata": {
        "id": "rJB6k03G7TjB",
        "outputId": "83033eac-cf39-4b0d-c065-a9535bf5eac5",
        "colab": {
          "base_uri": "https://localhost:8080/"
        }
      },
      "execution_count": 106,
      "outputs": [
        {
          "output_type": "execute_result",
          "data": {
            "text/plain": [
              "138316816021360"
            ]
          },
          "metadata": {},
          "execution_count": 106
        }
      ]
    }
  ],
  "metadata": {
    "colab": {
      "provenance": []
    },
    "kernelspec": {
      "display_name": "Python 3",
      "name": "python3"
    },
    "language_info": {
      "name": "python"
    }
  },
  "nbformat": 4,
  "nbformat_minor": 0
}